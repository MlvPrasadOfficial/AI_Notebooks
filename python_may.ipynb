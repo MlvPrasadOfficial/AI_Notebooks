{
 "cells": [
  {
   "cell_type": "code",
   "execution_count": 1,
   "id": "d578b786",
   "metadata": {
    "_cell_guid": "b1076dfc-b9ad-4769-8c92-a6c4dae69d19",
    "_uuid": "8f2839f25d086af736a60e9eeb907d3b93b6e0e5",
    "execution": {
     "iopub.execute_input": "2024-05-09T16:52:03.929312Z",
     "iopub.status.busy": "2024-05-09T16:52:03.928468Z",
     "iopub.status.idle": "2024-05-09T16:52:04.700005Z",
     "shell.execute_reply": "2024-05-09T16:52:04.698895Z"
    },
    "papermill": {
     "duration": 0.781059,
     "end_time": "2024-05-09T16:52:04.702695",
     "exception": false,
     "start_time": "2024-05-09T16:52:03.921636",
     "status": "completed"
    },
    "tags": []
   },
   "outputs": [],
   "source": [
    "# This Python 3 environment comes with many helpful analytics libraries installed\n",
    "# It is defined by the kaggle/python Docker image: https://github.com/kaggle/docker-python\n",
    "# For example, here's several helpful packages to load\n",
    "\n",
    "import numpy as np # linear algebra\n",
    "import pandas as pd # data processing, CSV file I/O (e.g. pd.read_csv)\n",
    "\n",
    "# Input data files are available in the read-only \"../input/\" directory\n",
    "# For example, running this (by clicking run or pressing Shift+Enter) will list all files under the input directory\n",
    "\n",
    "import os\n",
    "for dirname, _, filenames in os.walk('/kaggle/input'):\n",
    "    for filename in filenames:\n",
    "        print(os.path.join(dirname, filename))\n",
    "\n",
    "# You can write up to 20GB to the current directory (/kaggle/working/) that gets preserved as output when you create a version using \"Save & Run All\" \n",
    "# You can also write temporary files to /kaggle/temp/, but they won't be saved outside of the current session"
   ]
  },
  {
   "cell_type": "code",
   "execution_count": 2,
   "id": "8f3aabd4",
   "metadata": {
    "execution": {
     "iopub.execute_input": "2024-05-09T16:52:04.712751Z",
     "iopub.status.busy": "2024-05-09T16:52:04.711956Z",
     "iopub.status.idle": "2024-05-09T16:52:04.720706Z",
     "shell.execute_reply": "2024-05-09T16:52:04.719608Z"
    },
    "papermill": {
     "duration": 0.017727,
     "end_time": "2024-05-09T16:52:04.724708",
     "exception": false,
     "start_time": "2024-05-09T16:52:04.706981",
     "status": "completed"
    },
    "tags": []
   },
   "outputs": [
    {
     "name": "stdout",
     "output_type": "stream",
     "text": [
      "        1 \n",
      "      1 2 1 \n",
      "    1 2 3 2 1 \n",
      "  1 2 3 4 3 2 1 \n",
      "1 2 3 4 5 4 3 2 1 \n",
      "  1 2 3 4 3 2 1 \n",
      "    1 2 3 2 1 \n",
      "      1 2 1 \n",
      "        1 \n"
     ]
    }
   ],
   "source": [
    "for i in range(5):\n",
    "  print(\" \"*(2*(4-i)),end=\"\")\n",
    "  for j in range(i+1):\n",
    "    print(j+1, end=\" \")\n",
    "  for k in range(i, 0, -1):\n",
    "      print(k, end=\" \")\n",
    "  print()\n",
    "# print(\"-\")\n",
    "for x in range(4):\n",
    "  print(\" \"*(2*(x+1)), end=\"\")\n",
    "  for y in range(4-x):\n",
    "    print(y+1, end=\" \")\n",
    "\n",
    "  for z in range(3-x-1,-1,-1):\n",
    "      print(z+1, end=\" \")\n",
    "  print()\n"
   ]
  },
  {
   "cell_type": "code",
   "execution_count": 3,
   "id": "0a1fc6ab",
   "metadata": {
    "execution": {
     "iopub.execute_input": "2024-05-09T16:52:04.734159Z",
     "iopub.status.busy": "2024-05-09T16:52:04.733811Z",
     "iopub.status.idle": "2024-05-09T16:52:04.737655Z",
     "shell.execute_reply": "2024-05-09T16:52:04.736813Z"
    },
    "papermill": {
     "duration": 0.010824,
     "end_time": "2024-05-09T16:52:04.739644",
     "exception": false,
     "start_time": "2024-05-09T16:52:04.728820",
     "status": "completed"
    },
    "tags": []
   },
   "outputs": [],
   "source": [
    "# 1\n",
    "# 11     22\n",
    "# 111    222   333 \n",
    "# 1111   2222  3333  4444\n",
    "# 11111  22222 33333 44444 55555\n",
    "\n",
    "# \"1\"*1\n",
    "# \"1\"*2  \"2\"*2\n",
    "# \"1\"*3  \"2\"*3  \"3\"*3\n",
    "# \"1\"*4  \"2\"*4  \"3\"*4 \"4\"*4\n",
    "# \"1\"*5  \"2\"*5  \"3\"*5 \"4\"*5 \"5\"*5\n",
    "\n",
    "# 1\n",
    "# 1 2\n",
    "# 1 2 3\n",
    "# 1 2 3 4\n",
    "# 1 2 3 4 5 "
   ]
  },
  {
   "cell_type": "code",
   "execution_count": 4,
   "id": "2d62350d",
   "metadata": {
    "execution": {
     "iopub.execute_input": "2024-05-09T16:52:04.749528Z",
     "iopub.status.busy": "2024-05-09T16:52:04.748932Z",
     "iopub.status.idle": "2024-05-09T16:52:04.754145Z",
     "shell.execute_reply": "2024-05-09T16:52:04.753221Z"
    },
    "papermill": {
     "duration": 0.012116,
     "end_time": "2024-05-09T16:52:04.755993",
     "exception": false,
     "start_time": "2024-05-09T16:52:04.743877",
     "status": "completed"
    },
    "tags": []
   },
   "outputs": [
    {
     "name": "stdout",
     "output_type": "stream",
     "text": [
      "1 \n",
      "11 22 \n",
      "111 222 333 \n",
      "1111 2222 3333 4444 \n",
      "11111 22222 33333 44444 55555 \n"
     ]
    }
   ],
   "source": [
    "for i in range(5) :\n",
    "    for j in range(i+1) :\n",
    "        print(str(j+1)*(i+1),end=\" \")\n",
    "    print()"
   ]
  },
  {
   "cell_type": "markdown",
   "id": "de3655be",
   "metadata": {
    "papermill": {
     "duration": 0.003709,
     "end_time": "2024-05-09T16:52:04.763696",
     "exception": false,
     "start_time": "2024-05-09T16:52:04.759987",
     "status": "completed"
    },
    "tags": []
   },
   "source": [
    "### "
   ]
  },
  {
   "cell_type": "code",
   "execution_count": 5,
   "id": "f029dfb7",
   "metadata": {
    "execution": {
     "iopub.execute_input": "2024-05-09T16:52:04.773877Z",
     "iopub.status.busy": "2024-05-09T16:52:04.772828Z",
     "iopub.status.idle": "2024-05-09T16:52:04.776961Z",
     "shell.execute_reply": "2024-05-09T16:52:04.776267Z"
    },
    "papermill": {
     "duration": 0.011681,
     "end_time": "2024-05-09T16:52:04.779310",
     "exception": false,
     "start_time": "2024-05-09T16:52:04.767629",
     "status": "completed"
    },
    "tags": []
   },
   "outputs": [],
   "source": [
    "# 1\n",
    "# 4 9\n",
    "# 16 25 36\n",
    "# 49 64 81 100"
   ]
  },
  {
   "cell_type": "code",
   "execution_count": 6,
   "id": "33fe4059",
   "metadata": {
    "execution": {
     "iopub.execute_input": "2024-05-09T16:52:04.791183Z",
     "iopub.status.busy": "2024-05-09T16:52:04.790595Z",
     "iopub.status.idle": "2024-05-09T16:52:04.793930Z",
     "shell.execute_reply": "2024-05-09T16:52:04.793279Z"
    },
    "papermill": {
     "duration": 0.010397,
     "end_time": "2024-05-09T16:52:04.795679",
     "exception": false,
     "start_time": "2024-05-09T16:52:04.785282",
     "status": "completed"
    },
    "tags": []
   },
   "outputs": [],
   "source": [
    "# 1**2\n",
    "# 2**2  3**2\n",
    "# 4**2  5**2 6**2\n",
    "# 7**2  8**2 9**2 10**2\n",
    "\n",
    "# 1\n",
    "# 2 3\n",
    "# 4 5 6 \n",
    "# 7 8 9 10\n"
   ]
  },
  {
   "cell_type": "code",
   "execution_count": 7,
   "id": "a60d3e61",
   "metadata": {
    "execution": {
     "iopub.execute_input": "2024-05-09T16:52:04.805021Z",
     "iopub.status.busy": "2024-05-09T16:52:04.804355Z",
     "iopub.status.idle": "2024-05-09T16:52:04.809347Z",
     "shell.execute_reply": "2024-05-09T16:52:04.808439Z"
    },
    "papermill": {
     "duration": 0.011545,
     "end_time": "2024-05-09T16:52:04.811182",
     "exception": false,
     "start_time": "2024-05-09T16:52:04.799637",
     "status": "completed"
    },
    "tags": []
   },
   "outputs": [
    {
     "name": "stdout",
     "output_type": "stream",
     "text": [
      "1 \n",
      "4 9 \n",
      "16 25 36 \n",
      "49 64 81 100 \n"
     ]
    }
   ],
   "source": [
    "k = 1\n",
    "for i in range(4) :\n",
    "    for j in range(i+1) :\n",
    "        print(k ** 2,end=\" \")\n",
    "        k = k + 1\n",
    "    print()"
   ]
  },
  {
   "cell_type": "code",
   "execution_count": 8,
   "id": "08f60d94",
   "metadata": {
    "execution": {
     "iopub.execute_input": "2024-05-09T16:52:04.820735Z",
     "iopub.status.busy": "2024-05-09T16:52:04.820181Z",
     "iopub.status.idle": "2024-05-09T16:52:04.824053Z",
     "shell.execute_reply": "2024-05-09T16:52:04.823354Z"
    },
    "papermill": {
     "duration": 0.010845,
     "end_time": "2024-05-09T16:52:04.826095",
     "exception": false,
     "start_time": "2024-05-09T16:52:04.815250",
     "status": "completed"
    },
    "tags": []
   },
   "outputs": [],
   "source": [
    "# 4 * 2  = 4 mult 2\n",
    "# 4 ** 2 = 4 pow 2"
   ]
  },
  {
   "cell_type": "code",
   "execution_count": 9,
   "id": "e0c9fc18",
   "metadata": {
    "execution": {
     "iopub.execute_input": "2024-05-09T16:52:04.835545Z",
     "iopub.status.busy": "2024-05-09T16:52:04.835248Z",
     "iopub.status.idle": "2024-05-09T16:52:04.838893Z",
     "shell.execute_reply": "2024-05-09T16:52:04.837966Z"
    },
    "papermill": {
     "duration": 0.010461,
     "end_time": "2024-05-09T16:52:04.840658",
     "exception": false,
     "start_time": "2024-05-09T16:52:04.830197",
     "status": "completed"
    },
    "tags": []
   },
   "outputs": [],
   "source": [
    "# #\n",
    "\n",
    "\n",
    "#           0\n",
    "#         0 1 0\n",
    "#       0 1 0 1 0 \n",
    "#     0 1 0 1 0 1 0\n",
    "#   0 1 0 1 0 1 0 1 0\n",
    "# 0 1 0 1 0 1 0 1 0 1 0 \n",
    "#   0 1 0 1 0 1 0 1 0\n",
    "#     0 1 0 1 0 1 0\n",
    "#       0 1 0 1 0 \n",
    "#         0 1 0\n",
    "#           0\n"
   ]
  },
  {
   "cell_type": "code",
   "execution_count": 10,
   "id": "d4e2e81e",
   "metadata": {
    "execution": {
     "iopub.execute_input": "2024-05-09T16:52:04.850175Z",
     "iopub.status.busy": "2024-05-09T16:52:04.849641Z",
     "iopub.status.idle": "2024-05-09T16:52:04.856187Z",
     "shell.execute_reply": "2024-05-09T16:52:04.855413Z"
    },
    "papermill": {
     "duration": 0.013403,
     "end_time": "2024-05-09T16:52:04.858044",
     "exception": false,
     "start_time": "2024-05-09T16:52:04.844641",
     "status": "completed"
    },
    "tags": []
   },
   "outputs": [
    {
     "data": {
      "text/plain": [
       "[100, 400, 900, 1600]"
      ]
     },
     "execution_count": 10,
     "metadata": {},
     "output_type": "execute_result"
    }
   ],
   "source": [
    "ans = [ ]\n",
    "\n",
    "for i in [10,20,30,40] :\n",
    "    ans.append(i**2)\n",
    "\n",
    "ans"
   ]
  },
  {
   "cell_type": "code",
   "execution_count": 11,
   "id": "fb878716",
   "metadata": {
    "execution": {
     "iopub.execute_input": "2024-05-09T16:52:04.867759Z",
     "iopub.status.busy": "2024-05-09T16:52:04.867201Z",
     "iopub.status.idle": "2024-05-09T16:52:04.872374Z",
     "shell.execute_reply": "2024-05-09T16:52:04.871718Z"
    },
    "papermill": {
     "duration": 0.011899,
     "end_time": "2024-05-09T16:52:04.874074",
     "exception": false,
     "start_time": "2024-05-09T16:52:04.862175",
     "status": "completed"
    },
    "tags": []
   },
   "outputs": [
    {
     "data": {
      "text/plain": [
       "[100, 400, 900, 2500]"
      ]
     },
     "execution_count": 11,
     "metadata": {},
     "output_type": "execute_result"
    }
   ],
   "source": [
    "# list comprehension \n",
    "\n",
    "ans = [ i**2 for i in [10,20,30,50] ]\n",
    "ans"
   ]
  },
  {
   "cell_type": "code",
   "execution_count": 12,
   "id": "5acb7a2d",
   "metadata": {
    "execution": {
     "iopub.execute_input": "2024-05-09T16:52:04.884015Z",
     "iopub.status.busy": "2024-05-09T16:52:04.883475Z",
     "iopub.status.idle": "2024-05-09T16:52:04.889808Z",
     "shell.execute_reply": "2024-05-09T16:52:04.888874Z"
    },
    "papermill": {
     "duration": 0.013396,
     "end_time": "2024-05-09T16:52:04.891715",
     "exception": false,
     "start_time": "2024-05-09T16:52:04.878319",
     "status": "completed"
    },
    "tags": []
   },
   "outputs": [
    {
     "data": {
      "text/plain": [
       "{10: 100, 20: 400, 30: 900, 40: 1600}"
      ]
     },
     "execution_count": 12,
     "metadata": {},
     "output_type": "execute_result"
    }
   ],
   "source": [
    "ans = { }\n",
    "\n",
    "for i in [10,20,30,40] :\n",
    "    ans.update({i : i **2 })\n",
    "    \n",
    "ans\n"
   ]
  },
  {
   "cell_type": "code",
   "execution_count": 13,
   "id": "2c4f0b09",
   "metadata": {
    "execution": {
     "iopub.execute_input": "2024-05-09T16:52:04.901980Z",
     "iopub.status.busy": "2024-05-09T16:52:04.901637Z",
     "iopub.status.idle": "2024-05-09T16:52:04.907899Z",
     "shell.execute_reply": "2024-05-09T16:52:04.907036Z"
    },
    "papermill": {
     "duration": 0.013638,
     "end_time": "2024-05-09T16:52:04.909740",
     "exception": false,
     "start_time": "2024-05-09T16:52:04.896102",
     "status": "completed"
    },
    "tags": []
   },
   "outputs": [
    {
     "data": {
      "text/plain": [
       "{10: 100, 20: 400, 30: 900, 40: 1600}"
      ]
     },
     "execution_count": 13,
     "metadata": {},
     "output_type": "execute_result"
    }
   ],
   "source": [
    "ans = { i : i **2  for i in [10,20,30,40]}\n",
    "ans\n",
    "\n",
    "# dict comprehension"
   ]
  },
  {
   "cell_type": "code",
   "execution_count": null,
   "id": "1dfe5d6a",
   "metadata": {
    "papermill": {
     "duration": 0.005168,
     "end_time": "2024-05-09T16:52:04.919401",
     "exception": false,
     "start_time": "2024-05-09T16:52:04.914233",
     "status": "completed"
    },
    "tags": []
   },
   "outputs": [],
   "source": []
  }
 ],
 "metadata": {
  "kaggle": {
   "accelerator": "none",
   "dataSources": [],
   "dockerImageVersionId": 30698,
   "isGpuEnabled": false,
   "isInternetEnabled": true,
   "language": "python",
   "sourceType": "notebook"
  },
  "kernelspec": {
   "display_name": "Python 3",
   "language": "python",
   "name": "python3"
  },
  "language_info": {
   "codemirror_mode": {
    "name": "ipython",
    "version": 3
   },
   "file_extension": ".py",
   "mimetype": "text/x-python",
   "name": "python",
   "nbconvert_exporter": "python",
   "pygments_lexer": "ipython3",
   "version": "3.10.13"
  },
  "papermill": {
   "default_parameters": {},
   "duration": 3.898202,
   "end_time": "2024-05-09T16:52:05.342899",
   "environment_variables": {},
   "exception": null,
   "input_path": "__notebook__.ipynb",
   "output_path": "__notebook__.ipynb",
   "parameters": {},
   "start_time": "2024-05-09T16:52:01.444697",
   "version": "2.5.0"
  }
 },
 "nbformat": 4,
 "nbformat_minor": 5
}
