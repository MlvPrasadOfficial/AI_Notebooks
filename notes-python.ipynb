{
 "cells": [
  {
   "cell_type": "code",
   "execution_count": 1,
   "id": "0fd3bf8d",
   "metadata": {
    "_cell_guid": "b1076dfc-b9ad-4769-8c92-a6c4dae69d19",
    "_uuid": "8f2839f25d086af736a60e9eeb907d3b93b6e0e5",
    "execution": {
     "iopub.execute_input": "2024-05-14T16:52:13.813095Z",
     "iopub.status.busy": "2024-05-14T16:52:13.812388Z",
     "iopub.status.idle": "2024-05-14T16:52:14.731173Z",
     "shell.execute_reply": "2024-05-14T16:52:14.730088Z"
    },
    "papermill": {
     "duration": 0.930366,
     "end_time": "2024-05-14T16:52:14.734104",
     "exception": false,
     "start_time": "2024-05-14T16:52:13.803738",
     "status": "completed"
    },
    "tags": []
   },
   "outputs": [],
   "source": [
    "# This Python 3 environment comes with many helpful analytics libraries installed\n",
    "# It is defined by the kaggle/python Docker image: https://github.com/kaggle/docker-python\n",
    "# For example, here's several helpful packages to load\n",
    "\n",
    "import numpy as np # linear algebra\n",
    "import pandas as pd # data processing, CSV file I/O (e.g. pd.read_csv)\n",
    "\n",
    "# Input data files are available in the read-only \"../input/\" directory\n",
    "# For example, running this (by clicking run or pressing Shift+Enter) will list all files under the input directory\n",
    "\n",
    "import os\n",
    "for dirname, _, filenames in os.walk('/kaggle/input'):\n",
    "    for filename in filenames:\n",
    "        print(os.path.join(dirname, filename))\n",
    "\n",
    "# You can write up to 20GB to the current directory (/kaggle/working/) that gets preserved as output when you create a version using \"Save & Run All\" \n",
    "# You can also write temporary files to /kaggle/temp/, but they won't be saved outside of the current session"
   ]
  },
  {
   "cell_type": "code",
   "execution_count": 2,
   "id": "4c3938e8",
   "metadata": {
    "execution": {
     "iopub.execute_input": "2024-05-14T16:52:14.747466Z",
     "iopub.status.busy": "2024-05-14T16:52:14.746823Z",
     "iopub.status.idle": "2024-05-14T16:52:14.753301Z",
     "shell.execute_reply": "2024-05-14T16:52:14.751995Z"
    },
    "papermill": {
     "duration": 0.016456,
     "end_time": "2024-05-14T16:52:14.756353",
     "exception": false,
     "start_time": "2024-05-14T16:52:14.739897",
     "status": "completed"
    },
    "tags": []
   },
   "outputs": [
    {
     "name": "stdout",
     "output_type": "stream",
     "text": [
      "10\n",
      "12\n",
      "14\n",
      "16\n",
      "18\n",
      "20\n"
     ]
    }
   ],
   "source": [
    "a = 10\n",
    "\n",
    "\n",
    "while a <= 20 :\n",
    "    print(a)  \n",
    "    \n",
    "    # \n",
    "    a = a + 2"
   ]
  },
  {
   "cell_type": "code",
   "execution_count": 3,
   "id": "048e8348",
   "metadata": {
    "execution": {
     "iopub.execute_input": "2024-05-14T16:52:14.769583Z",
     "iopub.status.busy": "2024-05-14T16:52:14.768936Z",
     "iopub.status.idle": "2024-05-14T16:52:14.773515Z",
     "shell.execute_reply": "2024-05-14T16:52:14.772416Z"
    },
    "papermill": {
     "duration": 0.014184,
     "end_time": "2024-05-14T16:52:14.776134",
     "exception": false,
     "start_time": "2024-05-14T16:52:14.761950",
     "status": "completed"
    },
    "tags": []
   },
   "outputs": [],
   "source": [
    "# function -- print -- return -- lambda\n"
   ]
  },
  {
   "cell_type": "code",
   "execution_count": 4,
   "id": "86cdad37",
   "metadata": {
    "execution": {
     "iopub.execute_input": "2024-05-14T16:52:14.789417Z",
     "iopub.status.busy": "2024-05-14T16:52:14.788993Z",
     "iopub.status.idle": "2024-05-14T16:52:14.795202Z",
     "shell.execute_reply": "2024-05-14T16:52:14.793982Z"
    },
    "papermill": {
     "duration": 0.016283,
     "end_time": "2024-05-14T16:52:14.798098",
     "exception": false,
     "start_time": "2024-05-14T16:52:14.781815",
     "status": "completed"
    },
    "tags": []
   },
   "outputs": [
    {
     "name": "stdout",
     "output_type": "stream",
     "text": [
      "you are not eligible rajat\n"
     ]
    }
   ],
   "source": [
    "m1 = 90\n",
    "m2 = 70\n",
    "\n",
    "name = \"rajat\" \n",
    "if  m1 >= 80 and m2 >= 80 :\n",
    "    print(f\"{name} is eligible for final exam\") \n",
    "else :\n",
    "    print(f\"you are not eligible {name}\")"
   ]
  },
  {
   "cell_type": "code",
   "execution_count": 5,
   "id": "f707f151",
   "metadata": {
    "execution": {
     "iopub.execute_input": "2024-05-14T16:52:14.811304Z",
     "iopub.status.busy": "2024-05-14T16:52:14.810921Z",
     "iopub.status.idle": "2024-05-14T16:52:14.817775Z",
     "shell.execute_reply": "2024-05-14T16:52:14.816458Z"
    },
    "papermill": {
     "duration": 0.016723,
     "end_time": "2024-05-14T16:52:14.820426",
     "exception": false,
     "start_time": "2024-05-14T16:52:14.803703",
     "status": "completed"
    },
    "tags": []
   },
   "outputs": [
    {
     "name": "stdout",
     "output_type": "stream",
     "text": [
      "yamini is eligible for final exam\n"
     ]
    }
   ],
   "source": [
    "m1 = 95\n",
    "m2 = 85\n",
    "\n",
    "name = \"yamini\" \n",
    "\n",
    "if  m1 >= 80 and m2 >= 80 :\n",
    "    print(f\"{name} is eligible for final exam\") \n",
    "else :\n",
    "    print(f\"you are not eligible {name}\")"
   ]
  },
  {
   "cell_type": "code",
   "execution_count": 6,
   "id": "60e2c067",
   "metadata": {
    "execution": {
     "iopub.execute_input": "2024-05-14T16:52:14.833561Z",
     "iopub.status.busy": "2024-05-14T16:52:14.833141Z",
     "iopub.status.idle": "2024-05-14T16:52:14.839379Z",
     "shell.execute_reply": "2024-05-14T16:52:14.838557Z"
    },
    "papermill": {
     "duration": 0.015957,
     "end_time": "2024-05-14T16:52:14.842073",
     "exception": false,
     "start_time": "2024-05-14T16:52:14.826116",
     "status": "completed"
    },
    "tags": []
   },
   "outputs": [
    {
     "name": "stdout",
     "output_type": "stream",
     "text": [
      "sandhya is eligible for final exam\n",
      "you are not eligible prasad\n"
     ]
    }
   ],
   "source": [
    "def eligible(m1,m2,name) :\n",
    "    if  m1 >= 80 and m2 >= 80 :\n",
    "        print(f\"{name} is eligible for final exam\") \n",
    "    else :\n",
    "        print(f\"you are not eligible {name}\")\n",
    "    \n",
    "    \n",
    "eligible(90,85,\"sandhya\")\n",
    "eligible(80,77,\"prasad\")"
   ]
  },
  {
   "cell_type": "code",
   "execution_count": 7,
   "id": "08ac2162",
   "metadata": {
    "execution": {
     "iopub.execute_input": "2024-05-14T16:52:14.855666Z",
     "iopub.status.busy": "2024-05-14T16:52:14.855259Z",
     "iopub.status.idle": "2024-05-14T16:52:14.863785Z",
     "shell.execute_reply": "2024-05-14T16:52:14.862300Z"
    },
    "papermill": {
     "duration": 0.018221,
     "end_time": "2024-05-14T16:52:14.866539",
     "exception": false,
     "start_time": "2024-05-14T16:52:14.848318",
     "status": "completed"
    },
    "tags": []
   },
   "outputs": [
    {
     "name": "stdout",
     "output_type": "stream",
     "text": [
      "rajat 90 88\n",
      "rajat is eligible for final exam\n",
      "\n",
      "sandhya 99 39\n",
      "you are not eligible sandhya\n",
      "\n",
      "mlv 89 30\n",
      "you are not eligible mlv\n",
      "\n",
      "prasad 29 99\n",
      "you are not eligible prasad\n",
      "\n",
      "yamini 39 93\n",
      "you are not eligible yamini\n",
      "\n"
     ]
    }
   ],
   "source": [
    "m1 =      [90,    99,        89,    29,      39]\n",
    "m2 =      [88,    39,        30,    99,      93]\n",
    "student = [\"rajat\",\"sandhya\",\"mlv\",\"prasad\",\"yamini\"]\n",
    "\n",
    "for i in range(len(m1) ) :\n",
    "    print(student[i],m1[i],m2[i])\n",
    "    eligible(m1[i],m2[i],student[i])\n",
    "    print()"
   ]
  },
  {
   "cell_type": "code",
   "execution_count": 8,
   "id": "1706d357",
   "metadata": {
    "execution": {
     "iopub.execute_input": "2024-05-14T16:52:14.880689Z",
     "iopub.status.busy": "2024-05-14T16:52:14.880316Z",
     "iopub.status.idle": "2024-05-14T16:52:14.886723Z",
     "shell.execute_reply": "2024-05-14T16:52:14.885647Z"
    },
    "papermill": {
     "duration": 0.01674,
     "end_time": "2024-05-14T16:52:14.889606",
     "exception": false,
     "start_time": "2024-05-14T16:52:14.872866",
     "status": "completed"
    },
    "tags": []
   },
   "outputs": [
    {
     "name": "stdout",
     "output_type": "stream",
     "text": [
      "mlv prasad is eligible for final exam\n"
     ]
    }
   ],
   "source": [
    "def eligible(m1 = 100,m2 = 100,name = \"mlv prasad\") :\n",
    "    if  m1 >= 80 and m2 >= 80 :\n",
    "        print(f\"{name} is eligible for final exam\") \n",
    "    else :\n",
    "        print(f\"you are not eligible {name}\")\n",
    "    \n",
    "    \n",
    "eligible(m1 = 90)"
   ]
  },
  {
   "cell_type": "code",
   "execution_count": 9,
   "id": "649667ca",
   "metadata": {
    "execution": {
     "iopub.execute_input": "2024-05-14T16:52:14.903238Z",
     "iopub.status.busy": "2024-05-14T16:52:14.902786Z",
     "iopub.status.idle": "2024-05-14T16:52:14.908828Z",
     "shell.execute_reply": "2024-05-14T16:52:14.907774Z"
    },
    "papermill": {
     "duration": 0.016072,
     "end_time": "2024-05-14T16:52:14.911681",
     "exception": false,
     "start_time": "2024-05-14T16:52:14.895609",
     "status": "completed"
    },
    "tags": []
   },
   "outputs": [
    {
     "name": "stdout",
     "output_type": "stream",
     "text": [
      "30\n",
      "45\n"
     ]
    }
   ],
   "source": [
    "def add(a,b) :\n",
    "    c =  a + b \n",
    "    print(c)\n",
    "    print( c + 15)\n",
    "    \n",
    "    \n",
    "# add(10,20) + 10\n",
    "add(10,20)"
   ]
  },
  {
   "cell_type": "code",
   "execution_count": 10,
   "id": "35241c57",
   "metadata": {
    "execution": {
     "iopub.execute_input": "2024-05-14T16:52:14.925635Z",
     "iopub.status.busy": "2024-05-14T16:52:14.925273Z",
     "iopub.status.idle": "2024-05-14T16:52:14.933914Z",
     "shell.execute_reply": "2024-05-14T16:52:14.932806Z"
    },
    "papermill": {
     "duration": 0.01867,
     "end_time": "2024-05-14T16:52:14.936418",
     "exception": false,
     "start_time": "2024-05-14T16:52:14.917748",
     "status": "completed"
    },
    "tags": []
   },
   "outputs": [
    {
     "data": {
      "text/plain": [
       "115"
      ]
     },
     "execution_count": 10,
     "metadata": {},
     "output_type": "execute_result"
    }
   ],
   "source": [
    "def add(a,b) :\n",
    "    c =  a + b \n",
    "    if c < 25 :\n",
    "        return c + 100\n",
    "    else :\n",
    "        return c + 15\n",
    "    \n",
    "    \n",
    "add(10,5)"
   ]
  },
  {
   "cell_type": "code",
   "execution_count": 11,
   "id": "1cc8bc5c",
   "metadata": {
    "execution": {
     "iopub.execute_input": "2024-05-14T16:52:14.951518Z",
     "iopub.status.busy": "2024-05-14T16:52:14.951118Z",
     "iopub.status.idle": "2024-05-14T16:52:14.957413Z",
     "shell.execute_reply": "2024-05-14T16:52:14.956635Z"
    },
    "papermill": {
     "duration": 0.016039,
     "end_time": "2024-05-14T16:52:14.959475",
     "exception": false,
     "start_time": "2024-05-14T16:52:14.943436",
     "status": "completed"
    },
    "tags": []
   },
   "outputs": [
    {
     "data": {
      "text/plain": [
       "30"
      ]
     },
     "execution_count": 11,
     "metadata": {},
     "output_type": "execute_result"
    }
   ],
   "source": [
    "def add (a,b) :\n",
    "    return a + b\n",
    "add(10,20)"
   ]
  },
  {
   "cell_type": "code",
   "execution_count": 12,
   "id": "dcf8171c",
   "metadata": {
    "execution": {
     "iopub.execute_input": "2024-05-14T16:52:14.973740Z",
     "iopub.status.busy": "2024-05-14T16:52:14.973334Z",
     "iopub.status.idle": "2024-05-14T16:52:14.979901Z",
     "shell.execute_reply": "2024-05-14T16:52:14.978720Z"
    },
    "papermill": {
     "duration": 0.016492,
     "end_time": "2024-05-14T16:52:14.982275",
     "exception": false,
     "start_time": "2024-05-14T16:52:14.965783",
     "status": "completed"
    },
    "tags": []
   },
   "outputs": [
    {
     "name": "stdout",
     "output_type": "stream",
     "text": [
      "17\n",
      "18\n"
     ]
    }
   ],
   "source": [
    "# func name  = lambda inout para : return logic\n",
    "add  = lambda a,b : a + b\n",
    "\n",
    "print(add(10,7))\n",
    "print(add(10,8))"
   ]
  },
  {
   "cell_type": "code",
   "execution_count": 13,
   "id": "a58c952a",
   "metadata": {
    "execution": {
     "iopub.execute_input": "2024-05-14T16:52:14.996723Z",
     "iopub.status.busy": "2024-05-14T16:52:14.996331Z",
     "iopub.status.idle": "2024-05-14T16:52:15.003842Z",
     "shell.execute_reply": "2024-05-14T16:52:15.002650Z"
    },
    "papermill": {
     "duration": 0.017359,
     "end_time": "2024-05-14T16:52:15.006078",
     "exception": false,
     "start_time": "2024-05-14T16:52:14.988719",
     "status": "completed"
    },
    "tags": []
   },
   "outputs": [
    {
     "data": {
      "text/plain": [
       "50"
      ]
     },
     "execution_count": 13,
     "metadata": {},
     "output_type": "execute_result"
    }
   ],
   "source": [
    "(lambda a,b : a + b)(20,30)"
   ]
  },
  {
   "cell_type": "code",
   "execution_count": null,
   "id": "e74430c9",
   "metadata": {
    "papermill": {
     "duration": 0.006383,
     "end_time": "2024-05-14T16:52:15.018951",
     "exception": false,
     "start_time": "2024-05-14T16:52:15.012568",
     "status": "completed"
    },
    "tags": []
   },
   "outputs": [],
   "source": []
  }
 ],
 "metadata": {
  "kaggle": {
   "accelerator": "none",
   "dataSources": [],
   "dockerImageVersionId": 30698,
   "isGpuEnabled": false,
   "isInternetEnabled": true,
   "language": "python",
   "sourceType": "notebook"
  },
  "kernelspec": {
   "display_name": "Python 3",
   "language": "python",
   "name": "python3"
  },
  "language_info": {
   "codemirror_mode": {
    "name": "ipython",
    "version": 3
   },
   "file_extension": ".py",
   "mimetype": "text/x-python",
   "name": "python",
   "nbconvert_exporter": "python",
   "pygments_lexer": "ipython3",
   "version": "3.10.13"
  },
  "papermill": {
   "default_parameters": {},
   "duration": 4.718349,
   "end_time": "2024-05-14T16:52:15.546927",
   "environment_variables": {},
   "exception": null,
   "input_path": "__notebook__.ipynb",
   "output_path": "__notebook__.ipynb",
   "parameters": {},
   "start_time": "2024-05-14T16:52:10.828578",
   "version": "2.5.0"
  }
 },
 "nbformat": 4,
 "nbformat_minor": 5
}
